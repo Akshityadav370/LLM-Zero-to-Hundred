{
 "cells": [
  {
   "cell_type": "code",
   "execution_count": 2,
   "metadata": {},
   "outputs": [],
   "source": [
    "from langchain.document_loaders import WebBaseLoader\n",
    "web_page_url = \"https://towardsdatascience.com/all-you-need-to-know-to-build-your-first-llm-app-eb982c78ffac\"\n",
    "loader  = WebBaseLoader(web_page_url)\n",
    "documents = loader.load()"
   ]
  },
  {
   "cell_type": "code",
   "execution_count": 5,
   "metadata": {},
   "outputs": [
    {
     "name": "stdout",
     "output_type": "stream",
     "text": [
      "All You Need to Know to Build Your First LLM App | by Dominik Polzer | Towards Data ScienceOpen in appSign upSign inWriteSign upSign inMember-only storyAll You Need to Know to Build Your First LLM AppA Step-by-Step Tutorial to Document Loaders, Embeddings, Vector Stores and Prompt TemplatesDominik Polzer·FollowPublished inTowards Data Science·26 min read·Jun 22--47ShareBuild your own chatbot with context injection — Image by the authorTable of ContentsIf you are just looking for a short tutorial that explains how to build a simple LLM application, you can skip to section “6. Creating a Vector store”, there you have all the code snippets you need to build up a minimalistic LLM app with vector store, prompt template and LLM call.IntroWhy we need LLMsFine-Tuning vs. Context InjectionWhat is LangChain?Step-by-Step Tutorial1. Load documents using LangChain2. Split our Documents into Text Chunks3. From Text Chunks to Embeddings4. Define the LLM you want to use5. Define our Prompt Template6. \n"
     ]
    }
   ],
   "source": [
    "print(documents[0].page_content[:1000])"
   ]
  }
 ],
 "metadata": {
  "kernelspec": {
   "display_name": "AI-RT-LLM",
   "language": "python",
   "name": "python3"
  },
  "language_info": {
   "codemirror_mode": {
    "name": "ipython",
    "version": 3
   },
   "file_extension": ".py",
   "mimetype": "text/x-python",
   "name": "python",
   "nbconvert_exporter": "python",
   "pygments_lexer": "ipython3",
   "version": "3.11.5"
  }
 },
 "nbformat": 4,
 "nbformat_minor": 2
}
