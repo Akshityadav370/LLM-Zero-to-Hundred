{
 "cells": [
  {
   "cell_type": "markdown",
   "metadata": {},
   "source": [
    "**References:**\n",
    "- https://github.com/fastai/lm-hackers/blob/main/lm-hackers.ipynb by Jeremy Howard\n",
    "- https://learn.microsoft.com/en-us/azure/ai-services/openai/how-to/function-calling?tabs=python"
   ]
  },
  {
   "cell_type": "code",
   "execution_count": 18,
   "metadata": {},
   "outputs": [
    {
     "data": {
      "text/plain": [
       "True"
      ]
     },
     "execution_count": 18,
     "metadata": {},
     "output_type": "execute_result"
    }
   ],
   "source": [
    "from pydantic import create_model\n",
    "import inspect, json\n",
    "from inspect import Parameter\n",
    "import openai\n",
    "import os\n",
    "from dotenv import load_dotenv\n",
    "\n",
    "load_dotenv()"
   ]
  },
  {
   "cell_type": "code",
   "execution_count": 2,
   "metadata": {},
   "outputs": [],
   "source": [
    "openai.api_type = \"YOUR API TYPE\"\n",
    "openai.api_base = \"YOUR API BASE\"\n",
    "openai.api_version = \"YOUR API VERSION\"\n",
    "openai.api_key = \"YOUR API KEY\"\n",
    "\n",
    "GPT_MODEL = \"gpt-35-turbo-16k\"\n",
    "TEMPERATURE = 0"
   ]
  },
  {
   "cell_type": "markdown",
   "metadata": {},
   "source": [
    "**Example 1:**"
   ]
  },
  {
   "cell_type": "code",
   "execution_count": 23,
   "metadata": {},
   "outputs": [],
   "source": [
    "search_hotels_function_json = [  \n",
    "    {\n",
    "        \"name\": \"search_hotels\",\n",
    "        \"description\": \"Retrieves hotels from the search index based on the parameters provided\",\n",
    "        \"parameters\": {\n",
    "            \"type\": \"object\",\n",
    "            \"properties\": {\n",
    "                \"location\": {\n",
    "                    \"type\": \"string\",\n",
    "                    \"description\": \"The location of the hotel (i.e. Seattle, WA)\"\n",
    "                },\n",
    "                \"max_price\": {\n",
    "                    \"type\": \"number\",\n",
    "                    \"description\": \"The maximum price for the hotel\"\n",
    "                },\n",
    "                \"features\": {\n",
    "                    \"type\": \"string\",\n",
    "                    \"description\": \"A comma separated list of features (i.e. beachfront, free wifi, etc.)\"\n",
    "                }\n",
    "            },\n",
    "            \"required\": [\"location\"]\n",
    "        }\n",
    "    }\n",
    "]\n",
    "\n",
    "messages= [\n",
    "    {\"role\": \"user\", \"content\": \"Find beachfront hotels in San Diego for less than $300 a month with free breakfast.\"}\n",
    "]\n",
    "\n",
    "response = openai.ChatCompletion.create(\n",
    "    engine=GPT_MODEL, # engine = \"deployment_name\"\n",
    "    messages=messages,\n",
    "    functions=search_hotels_function_json,\n",
    "    function_call=\"auto\",\n",
    "    temperature=TEMPERATURE\n",
    ")"
   ]
  },
  {
   "cell_type": "code",
   "execution_count": 25,
   "metadata": {},
   "outputs": [
    {
     "name": "stdout",
     "output_type": "stream",
     "text": [
      "Full response:\n",
      "{\n",
      "  \"role\": \"assistant\",\n",
      "  \"function_call\": {\n",
      "    \"name\": \"search_hotels\",\n",
      "    \"arguments\": \"{\\n  \\\"location\\\": \\\"San Diego\\\",\\n  \\\"max_price\\\": 300,\\n  \\\"features\\\": \\\"beachfront,free breakfast\\\"\\n}\"\n",
      "  }\n",
      "}\n",
      "\n",
      "Function call:\n",
      "{\n",
      "  \"name\": \"search_hotels\",\n",
      "  \"arguments\": \"{\\n  \\\"location\\\": \\\"San Diego\\\",\\n  \\\"max_price\\\": 300,\\n  \\\"features\\\": \\\"beachfront,free breakfast\\\"\\n}\"\n",
      "}\n",
      "\n",
      "Function call arguments:\n",
      "{\n",
      "  \"location\": \"San Diego\",\n",
      "  \"max_price\": 300,\n",
      "  \"features\": \"beachfront,free breakfast\"\n",
      "}\n"
     ]
    }
   ],
   "source": [
    "print(\"Full response:\")\n",
    "print(response.choices[0].message)\n",
    "print(\"\\nFunction call:\")\n",
    "print(response.choices[0].message.function_call)\n",
    "print(\"\\nFunction call arguments:\")\n",
    "print(response.choices[0].message.function_call.arguments)"
   ]
  },
  {
   "cell_type": "markdown",
   "metadata": {},
   "source": [
    "**Example 2:**"
   ]
  },
  {
   "cell_type": "code",
   "execution_count": 27,
   "metadata": {},
   "outputs": [
    {
     "name": "stdout",
     "output_type": "stream",
     "text": [
      "<class 'dict'>\n",
      "{'name': 'sums', 'description': 'Adds a + b', 'parameters': {'title': 'Input for `sums`', 'type': 'object', 'properties': {'a': {'title': 'A', 'type': 'integer'}, 'b': {'title': 'B', 'default': 1, 'type': 'integer'}}, 'required': ['a']}}\n"
     ]
    },
    {
     "data": {
      "text/plain": [
       "{'name': 'sums',\n",
       " 'description': 'Adds a + b',\n",
       " 'parameters': {'title': 'Input for `sums`',\n",
       "  'type': 'object',\n",
       "  'properties': {'a': {'title': 'A', 'type': 'integer'},\n",
       "   'b': {'title': 'B', 'default': 1, 'type': 'integer'}},\n",
       "  'required': ['a']}}"
      ]
     },
     "execution_count": 27,
     "metadata": {},
     "output_type": "execute_result"
    }
   ],
   "source": [
    "def sums(a:int, b:int=1):\n",
    "    \"Adds a + b\"\n",
    "    return a + b\n",
    "\n",
    "def jsonschema(f):\n",
    "    kw = {n:(o.annotation, ... if o.default==Parameter.empty else o.default)\n",
    "          for n,o in inspect.signature(f).parameters.items()}\n",
    "    s = create_model(f'Input for `{f.__name__}`', **kw).schema()\n",
    "    return dict(name=f.__name__, description=f.__doc__, parameters=s)\n",
    "\n",
    "print(type(jsonschema(sums)))\n",
    "print(jsonschema(sums))\n",
    "jsonschema(sums)"
   ]
  },
  {
   "cell_type": "markdown",
   "metadata": {},
   "source": [
    "When functions are provided, by default the function_call will be set to \"auto\" and the model will decide whether or not a function should be called. "
   ]
  },
  {
   "cell_type": "code",
   "execution_count": 32,
   "metadata": {},
   "outputs": [],
   "source": [
    "llm_system_role = \"You must use the `sum` function instead of adding yourself.\"\n",
    "prompt = \"Use the `sum` function to solve this: What is 6+3?\"\n",
    "\n",
    "response = openai.ChatCompletion.create(\n",
    "            engine=GPT_MODEL,\n",
    "            messages=[\n",
    "                {\"role\": \"system\", \"content\": llm_system_role},\n",
    "                {\"role\": \"user\", \"content\": prompt}\n",
    "            ],\n",
    "            temperature=TEMPERATURE,\n",
    "            functions=[jsonschema(sums)],\n",
    "            function_call=\"auto\"\n",
    "        )"
   ]
  },
  {
   "cell_type": "code",
   "execution_count": 34,
   "metadata": {},
   "outputs": [
    {
     "name": "stdout",
     "output_type": "stream",
     "text": [
      "Full response:\n",
      "{\n",
      "  \"role\": \"assistant\",\n",
      "  \"function_call\": {\n",
      "    \"name\": \"sums\",\n",
      "    \"arguments\": \"{\\n  \\\"a\\\": 6,\\n  \\\"b\\\": 3\\n}\"\n",
      "  }\n",
      "}\n",
      "\n",
      "Function call:\n",
      "{\n",
      "  \"name\": \"sums\",\n",
      "  \"arguments\": \"{\\n  \\\"a\\\": 6,\\n  \\\"b\\\": 3\\n}\"\n",
      "}\n",
      "\n",
      "Function call arguments:\n",
      "{\n",
      "  \"a\": 6,\n",
      "  \"b\": 3\n",
      "}\n"
     ]
    }
   ],
   "source": [
    "print(\"Full response:\")\n",
    "print(response.choices[0].message)\n",
    "print(\"\\nFunction call:\")\n",
    "print(response.choices[0].message.function_call)\n",
    "print(\"\\nFunction call arguments:\")\n",
    "print(response.choices[0].message.function_call.arguments)"
   ]
  },
  {
   "cell_type": "code",
   "execution_count": 35,
   "metadata": {},
   "outputs": [
    {
     "data": {
      "text/plain": [
       "9"
      ]
     },
     "execution_count": 35,
     "metadata": {},
     "output_type": "execute_result"
    }
   ],
   "source": [
    "funcs_ok = {'sums', 'python'}\n",
    "\n",
    "def call_func(response):\n",
    "    function = response.choices[0].message.function_call\n",
    "    if function.name not in funcs_ok: return print(f'Not allowed: {function.name}')\n",
    "    f = globals()[function.name]\n",
    "    return f(**json.loads(function.arguments))\n",
    "\n",
    "call_func(response)"
   ]
  },
  {
   "cell_type": "code",
   "execution_count": 11,
   "metadata": {},
   "outputs": [
    {
     "name": "stdout",
     "output_type": "stream",
     "text": [
      "Full response:\n",
      "{\n",
      "  \"role\": \"assistant\",\n",
      "  \"function_call\": {\n",
      "    \"name\": \"sums\",\n",
      "    \"arguments\": \"{\\n  \\\"a\\\": 6,\\n  \\\"b\\\": 3\\n}\"\n",
      "  }\n",
      "}\n",
      "\n",
      "Function call arguments:\n",
      "{\n",
      "  \"a\": 6,\n",
      "  \"b\": 3\n",
      "}\n"
     ]
    }
   ],
   "source": [
    "print(\"Full response:\")\n",
    "print(response.choices[0].message)\n",
    "print(\"\\nFunction call arguments:\")\n",
    "print(response.choices[0].message.function_call.arguments)"
   ]
  },
  {
   "cell_type": "markdown",
   "metadata": {},
   "source": [
    "**Example 3:**"
   ]
  },
  {
   "cell_type": "code",
   "execution_count": 36,
   "metadata": {},
   "outputs": [],
   "source": [
    "import ast\n",
    "\n",
    "def run(code):\n",
    "    \"\"\"\n",
    "    Executes the given Python code and returns the result of the last expression.\n",
    "    Args:\n",
    "        code (str): The Python code to execute.\n",
    "    Returns:\n",
    "        The result of the last expression in the code, or None if there is no expression.\n",
    "    Raises:\n",
    "        SyntaxError: If the code contains syntax errors.\n",
    "        TypeError: If the code is not a string.\n",
    "    \"\"\"\n",
    "    tree = ast.parse(code)\n",
    "    last_node = tree.body[-1] if tree.body else None\n",
    "    \n",
    "    # If the last node is an expression, modify the AST to capture the result\n",
    "    if isinstance(last_node, ast.Expr):\n",
    "        tgts = [ast.Name(id='_result', ctx=ast.Store())]\n",
    "        assign = ast.Assign(targets=tgts, value=last_node.value)\n",
    "        tree.body[-1] = ast.fix_missing_locations(assign)\n",
    "\n",
    "    ns = {}\n",
    "    exec(compile(tree, filename='<ast>', mode='exec'), ns)\n",
    "    return ns.get('_result', None)\n",
    "\n",
    "def python(code:str):\n",
    "    \"Return result of executing `code` using python. If execution not permitted, returns `#FAIL#`\"\n",
    "    go = input(f'Proceed with execution?\\n```\\n{code}\\n```\\n')\n",
    "    if go.lower()!='y': return '#FAIL#'\n",
    "    return run(code)"
   ]
  },
  {
   "cell_type": "code",
   "execution_count": 38,
   "metadata": {},
   "outputs": [
    {
     "data": {
      "text/plain": [
       "16"
      ]
     },
     "execution_count": 38,
     "metadata": {},
     "output_type": "execute_result"
    }
   ],
   "source": [
    "run(\"\"\"\n",
    "a=2\n",
    "b=4\n",
    "a**b\n",
    "\"\"\")"
   ]
  },
  {
   "cell_type": "code",
   "execution_count": 39,
   "metadata": {},
   "outputs": [
    {
     "name": "stdout",
     "output_type": "stream",
     "text": [
      "Full response:\n",
      "12 factorial, denoted as 12!, is the product of all positive integers from 1 to 12. Mathematically, it can be calculated as:\n",
      "\n",
      "12! = 12 × 11 × 10 × 9 × 8 × 7 × 6 × 5 × 4 × 3 × 2 × 1\n",
      "\n",
      "Simplifying this expression, we get:\n",
      "\n",
      "12! = 479,001,600\n",
      "\n",
      "Therefore, 12 factorial is equal to 479,001,600.\n"
     ]
    }
   ],
   "source": [
    "prompt = \"What is 12 factorial?\"\n",
    "llm_system_role = \"You are a math expert. Use your best knowledge to answer the question.\"\n",
    "\n",
    "response = openai.ChatCompletion.create(\n",
    "            engine=GPT_MODEL,\n",
    "            messages=[\n",
    "                {\"role\": \"system\", \"content\": llm_system_role},\n",
    "                {\"role\": \"user\", \"content\": prompt}\n",
    "            ],\n",
    "            temperature=TEMPERATURE,\n",
    "        )\n",
    "\n",
    "print(\"Full response:\")\n",
    "print(response.choices[0].message.content)"
   ]
  },
  {
   "cell_type": "markdown",
   "metadata": {},
   "source": [
    "Given result: 479,001,600"
   ]
  },
  {
   "cell_type": "code",
   "execution_count": 42,
   "metadata": {},
   "outputs": [
    {
     "name": "stdout",
     "output_type": "stream",
     "text": [
      "Full response:\n",
      "{\n",
      "  \"role\": \"assistant\",\n",
      "  \"function_call\": {\n",
      "    \"name\": \"python\",\n",
      "    \"arguments\": \"{\\n  \\\"code\\\": \\\"import math\\\\nmath.factorial(12)\\\"\\n}\"\n",
      "  }\n",
      "}\n",
      "\n",
      "Function call arguments:\n",
      "{\n",
      "  \"code\": \"import math\\nmath.factorial(12)\"\n",
      "}\n"
     ]
    }
   ],
   "source": [
    "prompt = \"What is 12 factorial?\"\n",
    "llm_system_role = \"Use python for any required computations.\"\n",
    "\n",
    "response = openai.ChatCompletion.create(\n",
    "            engine=GPT_MODEL,\n",
    "            messages=[\n",
    "                {\"role\": \"system\", \"content\": llm_system_role},\n",
    "                {\"role\": \"user\", \"content\": prompt}\n",
    "            ],\n",
    "            temperature=TEMPERATURE,\n",
    "            functions=[jsonschema(python)],\n",
    "            function_call=\"auto\"\n",
    "        )\n",
    "\n",
    "print(\"Full response:\")\n",
    "print(response.choices[0].message)\n",
    "print(\"\\nFunction call arguments:\")\n",
    "print(response.choices[0].message.function_call.arguments)"
   ]
  },
  {
   "cell_type": "code",
   "execution_count": 45,
   "metadata": {},
   "outputs": [
    {
     "data": {
      "text/plain": [
       "<OpenAIObject chat.completion id=chatcmpl-8MJytC90aoWYqWOjZmztdWDBBctnT at 0x16c86333470> JSON: {\n",
       "  \"id\": \"chatcmpl-8MJytC90aoWYqWOjZmztdWDBBctnT\",\n",
       "  \"object\": \"chat.completion\",\n",
       "  \"created\": 1700330715,\n",
       "  \"model\": \"gpt-35-turbo-16k\",\n",
       "  \"prompt_filter_results\": [\n",
       "    {\n",
       "      \"prompt_index\": 0,\n",
       "      \"content_filter_results\": {\n",
       "        \"hate\": {\n",
       "          \"filtered\": false,\n",
       "          \"severity\": \"safe\"\n",
       "        },\n",
       "        \"self_harm\": {\n",
       "          \"filtered\": false,\n",
       "          \"severity\": \"safe\"\n",
       "        },\n",
       "        \"sexual\": {\n",
       "          \"filtered\": false,\n",
       "          \"severity\": \"safe\"\n",
       "        },\n",
       "        \"violence\": {\n",
       "          \"filtered\": false,\n",
       "          \"severity\": \"safe\"\n",
       "        }\n",
       "      }\n",
       "    }\n",
       "  ],\n",
       "  \"choices\": [\n",
       "    {\n",
       "      \"index\": 0,\n",
       "      \"finish_reason\": \"function_call\",\n",
       "      \"message\": {\n",
       "        \"role\": \"assistant\",\n",
       "        \"function_call\": {\n",
       "          \"name\": \"python\",\n",
       "          \"arguments\": \"{\\n  \\\"code\\\": \\\"import math\\\\nmath.factorial(12)\\\"\\n}\"\n",
       "        }\n",
       "      },\n",
       "      \"content_filter_results\": {}\n",
       "    }\n",
       "  ],\n",
       "  \"usage\": {\n",
       "    \"prompt_tokens\": 72,\n",
       "    \"completion_tokens\": 21,\n",
       "    \"total_tokens\": 93\n",
       "  }\n",
       "}"
      ]
     },
     "execution_count": 45,
     "metadata": {},
     "output_type": "execute_result"
    }
   ],
   "source": [
    "response"
   ]
  },
  {
   "cell_type": "code",
   "execution_count": 47,
   "metadata": {},
   "outputs": [
    {
     "data": {
      "text/plain": [
       "479001600"
      ]
     },
     "execution_count": 47,
     "metadata": {},
     "output_type": "execute_result"
    }
   ],
   "source": [
    "call_func(response)"
   ]
  },
  {
   "cell_type": "markdown",
   "metadata": {},
   "source": [
    "**Example 4:**"
   ]
  },
  {
   "cell_type": "code",
   "execution_count": 40,
   "metadata": {},
   "outputs": [],
   "source": [
    "prompt = \"What is the capital of France?\"\n",
    "llm_system_role = \"Use python for any required computations.\"\n",
    "\n",
    "response = openai.ChatCompletion.create(\n",
    "            engine=GPT_MODEL,\n",
    "            messages=[\n",
    "                {\"role\": \"system\", \"content\": llm_system_role},\n",
    "                {\"role\": \"user\", \"content\": prompt}\n",
    "            ],\n",
    "            temperature=TEMPERATURE,\n",
    "            functions=[jsonschema(python)],\n",
    "            function_call=\"auto\"\n",
    "        )"
   ]
  },
  {
   "cell_type": "code",
   "execution_count": 41,
   "metadata": {},
   "outputs": [
    {
     "name": "stdout",
     "output_type": "stream",
     "text": [
      "Full response:\n",
      "{\n",
      "  \"role\": \"assistant\",\n",
      "  \"content\": \"The capital of France is Paris.\"\n",
      "}\n",
      "\n",
      "Function call arguments:\n",
      "An error occured: function_call\n"
     ]
    }
   ],
   "source": [
    "try:\n",
    "    print(\"Full response:\")\n",
    "    print(response.choices[0].message)\n",
    "    print(\"\\nFunction call arguments:\")\n",
    "    print(response.choices[0].message.function_call.arguments)\n",
    "except AttributeError as e:\n",
    "    print(\"An error occured:\", e)"
   ]
  }
 ],
 "metadata": {
  "kernelspec": {
   "display_name": "AI-RT-LLM",
   "language": "python",
   "name": "python3"
  },
  "language_info": {
   "codemirror_mode": {
    "name": "ipython",
    "version": 3
   },
   "file_extension": ".py",
   "mimetype": "text/x-python",
   "name": "python",
   "nbconvert_exporter": "python",
   "pygments_lexer": "ipython3",
   "version": "3.11.5"
  }
 },
 "nbformat": 4,
 "nbformat_minor": 2
}
